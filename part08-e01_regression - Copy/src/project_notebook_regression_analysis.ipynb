{
 "cells": [
  {
   "cell_type": "markdown",
   "metadata": {},
   "source": [
    "# Linear regression"
   ]
  },
  {
   "cell_type": "markdown",
   "metadata": {},
   "source": [
    "Import all the modules you will need in this notebook here:"
   ]
  },
  {
   "cell_type": "code",
   "execution_count": 148,
   "metadata": {},
   "outputs": [],
   "source": [
    "# exercise 0\n",
    "# Put your solution here!\n",
    "import numpy as np\n",
    "import matplotlib.pyplot as plt\n",
    "import statsmodels\n",
    "import statsmodels.api as sm\n",
    "import statsmodels.formula.api as smf\n",
    "# plots a line given an intercept and a slope\n",
    "from statsmodels.graphics.regressionplots import abline_plot\n",
    "import pandas as pd\n"
   ]
  },
  {
   "cell_type": "markdown",
   "metadata": {},
   "source": [
    "We continue analysing the `fram` heart disease data.\n",
    "\n",
    "First load the data, use the name `fram` for the DataFrame variable. Make sure that in the data you loaded the column and row headers are in place. Checkout the summary of the variables using the `describe` method."
   ]
  },
  {
   "cell_type": "code",
   "execution_count": 149,
   "metadata": {},
   "outputs": [
    {
     "data": {
      "text/html": [
       "<div>\n",
       "<style scoped>\n",
       "    .dataframe tbody tr th:only-of-type {\n",
       "        vertical-align: middle;\n",
       "    }\n",
       "\n",
       "    .dataframe tbody tr th {\n",
       "        vertical-align: top;\n",
       "    }\n",
       "\n",
       "    .dataframe thead th {\n",
       "        text-align: right;\n",
       "    }\n",
       "</style>\n",
       "<table border=\"1\" class=\"dataframe\">\n",
       "  <thead>\n",
       "    <tr style=\"text-align: right;\">\n",
       "      <th></th>\n",
       "      <th>ID</th>\n",
       "      <th>AGE</th>\n",
       "      <th>FRW</th>\n",
       "      <th>SBP</th>\n",
       "      <th>SBP10</th>\n",
       "      <th>DBP</th>\n",
       "      <th>CHOL</th>\n",
       "      <th>CIG</th>\n",
       "      <th>CHD</th>\n",
       "      <th>DEATH</th>\n",
       "      <th>YRS_DTH</th>\n",
       "    </tr>\n",
       "  </thead>\n",
       "  <tbody>\n",
       "    <tr>\n",
       "      <th>count</th>\n",
       "      <td>1394.000000</td>\n",
       "      <td>1394.000000</td>\n",
       "      <td>1394.000000</td>\n",
       "      <td>1394.000000</td>\n",
       "      <td>767.000000</td>\n",
       "      <td>1394.000000</td>\n",
       "      <td>1394.000000</td>\n",
       "      <td>1394.000000</td>\n",
       "      <td>1394.000000</td>\n",
       "      <td>1394.000000</td>\n",
       "      <td>1394.000000</td>\n",
       "    </tr>\n",
       "    <tr>\n",
       "      <th>mean</th>\n",
       "      <td>4737.184362</td>\n",
       "      <td>52.431133</td>\n",
       "      <td>105.365136</td>\n",
       "      <td>148.086083</td>\n",
       "      <td>148.040417</td>\n",
       "      <td>90.135581</td>\n",
       "      <td>234.644907</td>\n",
       "      <td>8.029412</td>\n",
       "      <td>1.187948</td>\n",
       "      <td>1.700861</td>\n",
       "      <td>16.219512</td>\n",
       "    </tr>\n",
       "    <tr>\n",
       "      <th>std</th>\n",
       "      <td>1073.406896</td>\n",
       "      <td>4.781507</td>\n",
       "      <td>17.752489</td>\n",
       "      <td>28.022062</td>\n",
       "      <td>25.706664</td>\n",
       "      <td>14.226235</td>\n",
       "      <td>46.303822</td>\n",
       "      <td>11.584138</td>\n",
       "      <td>2.615976</td>\n",
       "      <td>3.203132</td>\n",
       "      <td>3.921413</td>\n",
       "    </tr>\n",
       "    <tr>\n",
       "      <th>min</th>\n",
       "      <td>1070.000000</td>\n",
       "      <td>45.000000</td>\n",
       "      <td>52.000000</td>\n",
       "      <td>90.000000</td>\n",
       "      <td>94.000000</td>\n",
       "      <td>50.000000</td>\n",
       "      <td>96.000000</td>\n",
       "      <td>0.000000</td>\n",
       "      <td>0.000000</td>\n",
       "      <td>0.000000</td>\n",
       "      <td>1.000000</td>\n",
       "    </tr>\n",
       "    <tr>\n",
       "      <th>25%</th>\n",
       "      <td>3890.250000</td>\n",
       "      <td>48.000000</td>\n",
       "      <td>94.000000</td>\n",
       "      <td>130.000000</td>\n",
       "      <td>130.000000</td>\n",
       "      <td>80.000000</td>\n",
       "      <td>200.000000</td>\n",
       "      <td>0.000000</td>\n",
       "      <td>0.000000</td>\n",
       "      <td>0.000000</td>\n",
       "      <td>18.000000</td>\n",
       "    </tr>\n",
       "    <tr>\n",
       "      <th>50%</th>\n",
       "      <td>4821.000000</td>\n",
       "      <td>52.000000</td>\n",
       "      <td>103.000000</td>\n",
       "      <td>142.000000</td>\n",
       "      <td>145.000000</td>\n",
       "      <td>90.000000</td>\n",
       "      <td>230.000000</td>\n",
       "      <td>0.000000</td>\n",
       "      <td>0.000000</td>\n",
       "      <td>0.000000</td>\n",
       "      <td>18.000000</td>\n",
       "    </tr>\n",
       "    <tr>\n",
       "      <th>75%</th>\n",
       "      <td>5641.750000</td>\n",
       "      <td>56.000000</td>\n",
       "      <td>114.000000</td>\n",
       "      <td>160.000000</td>\n",
       "      <td>160.000000</td>\n",
       "      <td>98.000000</td>\n",
       "      <td>264.000000</td>\n",
       "      <td>20.000000</td>\n",
       "      <td>0.000000</td>\n",
       "      <td>0.000000</td>\n",
       "      <td>18.000000</td>\n",
       "    </tr>\n",
       "    <tr>\n",
       "      <th>max</th>\n",
       "      <td>6442.000000</td>\n",
       "      <td>62.000000</td>\n",
       "      <td>222.000000</td>\n",
       "      <td>300.000000</td>\n",
       "      <td>264.000000</td>\n",
       "      <td>160.000000</td>\n",
       "      <td>430.000000</td>\n",
       "      <td>60.000000</td>\n",
       "      <td>10.000000</td>\n",
       "      <td>10.000000</td>\n",
       "      <td>18.000000</td>\n",
       "    </tr>\n",
       "  </tbody>\n",
       "</table>\n",
       "</div>"
      ],
      "text/plain": [
       "                ID          AGE          FRW          SBP       SBP10  \\\n",
       "count  1394.000000  1394.000000  1394.000000  1394.000000  767.000000   \n",
       "mean   4737.184362    52.431133   105.365136   148.086083  148.040417   \n",
       "std    1073.406896     4.781507    17.752489    28.022062   25.706664   \n",
       "min    1070.000000    45.000000    52.000000    90.000000   94.000000   \n",
       "25%    3890.250000    48.000000    94.000000   130.000000  130.000000   \n",
       "50%    4821.000000    52.000000   103.000000   142.000000  145.000000   \n",
       "75%    5641.750000    56.000000   114.000000   160.000000  160.000000   \n",
       "max    6442.000000    62.000000   222.000000   300.000000  264.000000   \n",
       "\n",
       "               DBP         CHOL          CIG          CHD        DEATH  \\\n",
       "count  1394.000000  1394.000000  1394.000000  1394.000000  1394.000000   \n",
       "mean     90.135581   234.644907     8.029412     1.187948     1.700861   \n",
       "std      14.226235    46.303822    11.584138     2.615976     3.203132   \n",
       "min      50.000000    96.000000     0.000000     0.000000     0.000000   \n",
       "25%      80.000000   200.000000     0.000000     0.000000     0.000000   \n",
       "50%      90.000000   230.000000     0.000000     0.000000     0.000000   \n",
       "75%      98.000000   264.000000    20.000000     0.000000     0.000000   \n",
       "max     160.000000   430.000000    60.000000    10.000000    10.000000   \n",
       "\n",
       "           YRS_DTH  \n",
       "count  1394.000000  \n",
       "mean     16.219512  \n",
       "std       3.921413  \n",
       "min       1.000000  \n",
       "25%      18.000000  \n",
       "50%      18.000000  \n",
       "75%      18.000000  \n",
       "max      18.000000  "
      ]
     },
     "execution_count": 149,
     "metadata": {},
     "output_type": "execute_result"
    }
   ],
   "source": [
    "# exercise 1\n",
    "def get_path(filename):\n",
    "    import sys\n",
    "    import os\n",
    "    prog_name = sys.argv[0]\n",
    "    if os.path.basename(prog_name) == \"__main__.py\":   # Running under TMC\n",
    "        return os.path.join(os.path.dirname(prog_name), \"..\", \"src\", filename)\n",
    "    else:\n",
    "        return filename\n",
    "\n",
    "fram = pd.read_csv(get_path(\"fram.txt\"), sep='\\t')\n",
    "fram.describe()\n",
    "    \n"
   ]
  },
  {
   "cell_type": "markdown",
   "metadata": {},
   "source": [
    "Create function `rescale` that takes a Series as parameter. It should center the data and normalize it by dividing\n",
    "by 2$\\sigma$, where $\\sigma$ is the standard deviation. Return the rescaled Series."
   ]
  },
  {
   "cell_type": "code",
   "execution_count": 150,
   "metadata": {},
   "outputs": [],
   "source": [
    "# exercise 2\n",
    "\n",
    "def rescale(series):\n",
    "    return (series - series.mean()) / (2 * series.std())"
   ]
  },
  {
   "cell_type": "markdown",
   "metadata": {},
   "source": [
    "Add to the DataFrame the scaled versions of all the continuous variables (with function `rescale`). Add small letter `s` in front of the original variable name to get the name of the scaled variable. For instance, `AGE` -> `sAGE`."
   ]
  },
  {
   "cell_type": "code",
   "execution_count": 151,
   "metadata": {},
   "outputs": [
    {
     "data": {
      "text/plain": [
       "<bound method NDFrame.describe of         ID     SEX  AGE  FRW  SBP  SBP10  DBP  CHOL  CIG  CHD  ...      sAGE  \\\n",
       "0     4988  female   57  135  186    NaN  120   150    0    1  ...  0.477764   \n",
       "1     3001  female   60  123  165    NaN  100   167   25    0  ...  0.791473   \n",
       "2     5079  female   54  115  140    NaN   90   213    5    0  ...  0.164056   \n",
       "3     5162  female   52  102  170    NaN  104   280   15    0  ... -0.045083   \n",
       "4     4672  female   45   99  185    NaN  105   326   20    0  ... -0.777070   \n",
       "...    ...     ...  ...  ...  ...    ...  ...   ...  ...  ...  ...       ...   \n",
       "1389  4132    male   51  100  160    NaN   98   216   30    0  ... -0.149653   \n",
       "1390  5418    male   50   95  174    NaN  106   192    5    0  ... -0.254223   \n",
       "1391  6260    male   57   88  144    NaN   96   184   20    0  ...  0.477764   \n",
       "1392  5786    male   62   87  156    NaN   90   255    0    0  ...  1.000612   \n",
       "1393  6071    male   45   83  156    NaN   90   255   15    0  ... -0.777070   \n",
       "\n",
       "          sFRW      sSBP sSBP10      sDBP     sCHOL      sCIG      sCHD  \\\n",
       "0     0.834668  0.676501    NaN  1.049625 -0.914016 -0.346569 -0.035923   \n",
       "1     0.496687  0.301796    NaN  0.346698 -0.730446  0.732493 -0.227056   \n",
       "2     0.271367 -0.144281    NaN -0.004765 -0.233727 -0.130757 -0.227056   \n",
       "3    -0.094779  0.391012    NaN  0.487283  0.489755  0.300868 -0.227056   \n",
       "4    -0.179274  0.658658    NaN  0.522430  0.986475  0.516680 -0.227056   \n",
       "...        ...       ...    ...       ...       ...       ...       ...   \n",
       "1389 -0.151109  0.212581    NaN  0.276405 -0.201332  0.948305 -0.227056   \n",
       "1390 -0.291935  0.462384    NaN  0.557576 -0.460490 -0.130757 -0.227056   \n",
       "1391 -0.489090 -0.072908    NaN  0.206113 -0.546876  0.516680 -0.227056   \n",
       "1392 -0.517255  0.141209    NaN -0.004765  0.219799 -0.346569 -0.227056   \n",
       "1393 -0.629916  0.141209    NaN -0.004765  0.219799  0.300868 -0.227056   \n",
       "\n",
       "        sDEATH  sYRS_DTH  \n",
       "0     0.827181 -0.665514  \n",
       "1     1.295472  0.099516  \n",
       "2     0.983278 -0.410504  \n",
       "3     0.827181 -0.665514  \n",
       "4     1.295472  0.099516  \n",
       "...        ...       ...  \n",
       "1389  0.827181 -0.665514  \n",
       "1390  0.983278 -0.410504  \n",
       "1391  0.202792 -1.685555  \n",
       "1392  0.514986 -1.175534  \n",
       "1393  0.514986 -1.175534  \n",
       "\n",
       "[1394 rows x 25 columns]>"
      ]
     },
     "execution_count": 151,
     "metadata": {},
     "output_type": "execute_result"
    }
   ],
   "source": [
    "# exercise 3\n",
    "for head in fram.columns:\n",
    "    try:\n",
    "        shead = 's' + head\n",
    "        fram[shead] = rescale(fram[head])\n",
    "    except (TypeError, ValueError):\n",
    "        pass\n",
    "fram.describe\n"
   ]
  },
  {
   "cell_type": "markdown",
   "metadata": {},
   "source": [
    "Form a model that predicts systolic blood pressure using weight, gender, and cholesterol level as explanatory variables. Store the fitted model in variable named `fit`."
   ]
  },
  {
   "cell_type": "code",
   "execution_count": 152,
   "metadata": {},
   "outputs": [
    {
     "data": {
      "text/html": [
       "<table class=\"simpletable\">\n",
       "<caption>OLS Regression Results</caption>\n",
       "<tr>\n",
       "  <th>Dep. Variable:</th>           <td>SBP</td>       <th>  R-squared:         </th> <td>   0.125</td> \n",
       "</tr>\n",
       "<tr>\n",
       "  <th>Model:</th>                   <td>OLS</td>       <th>  Adj. R-squared:    </th> <td>   0.123</td> \n",
       "</tr>\n",
       "<tr>\n",
       "  <th>Method:</th>             <td>Least Squares</td>  <th>  F-statistic:       </th> <td>   66.37</td> \n",
       "</tr>\n",
       "<tr>\n",
       "  <th>Date:</th>             <td>Tue, 20 Dec 2022</td> <th>  Prob (F-statistic):</th> <td>4.13e-40</td> \n",
       "</tr>\n",
       "<tr>\n",
       "  <th>Time:</th>                 <td>19:53:48</td>     <th>  Log-Likelihood:    </th> <td> -6530.4</td> \n",
       "</tr>\n",
       "<tr>\n",
       "  <th>No. Observations:</th>      <td>  1394</td>      <th>  AIC:               </th> <td>1.307e+04</td>\n",
       "</tr>\n",
       "<tr>\n",
       "  <th>Df Residuals:</th>          <td>  1390</td>      <th>  BIC:               </th> <td>1.309e+04</td>\n",
       "</tr>\n",
       "<tr>\n",
       "  <th>Df Model:</th>              <td>     3</td>      <th>                     </th>     <td> </td>    \n",
       "</tr>\n",
       "<tr>\n",
       "  <th>Covariance Type:</th>      <td>nonrobust</td>    <th>                     </th>     <td> </td>    \n",
       "</tr>\n",
       "</table>\n",
       "<table class=\"simpletable\">\n",
       "<tr>\n",
       "       <td></td>          <th>coef</th>     <th>std err</th>      <th>t</th>      <th>P>|t|</th>  <th>[0.025</th>    <th>0.975]</th>  \n",
       "</tr>\n",
       "<tr>\n",
       "  <th>Intercept</th>   <td>  150.0199</td> <td>    0.985</td> <td>  152.336</td> <td> 0.000</td> <td>  148.088</td> <td>  151.952</td>\n",
       "</tr>\n",
       "<tr>\n",
       "  <th>SEX[T.male]</th> <td>   -4.0659</td> <td>    1.451</td> <td>   -2.803</td> <td> 0.005</td> <td>   -6.912</td> <td>   -1.220</td>\n",
       "</tr>\n",
       "<tr>\n",
       "  <th>sFRW</th>        <td>   17.7205</td> <td>    1.426</td> <td>   12.431</td> <td> 0.000</td> <td>   14.924</td> <td>   20.517</td>\n",
       "</tr>\n",
       "<tr>\n",
       "  <th>sCHOL</th>       <td>    4.9169</td> <td>    1.431</td> <td>    3.436</td> <td> 0.001</td> <td>    2.110</td> <td>    7.724</td>\n",
       "</tr>\n",
       "</table>\n",
       "<table class=\"simpletable\">\n",
       "<tr>\n",
       "  <th>Omnibus:</th>       <td>327.612</td> <th>  Durbin-Watson:     </th> <td>   1.774</td> \n",
       "</tr>\n",
       "<tr>\n",
       "  <th>Prob(Omnibus):</th> <td> 0.000</td>  <th>  Jarque-Bera (JB):  </th> <td> 843.676</td> \n",
       "</tr>\n",
       "<tr>\n",
       "  <th>Skew:</th>          <td> 1.237</td>  <th>  Prob(JB):          </th> <td>6.28e-184</td>\n",
       "</tr>\n",
       "<tr>\n",
       "  <th>Kurtosis:</th>      <td> 5.899</td>  <th>  Cond. No.          </th> <td>    2.79</td> \n",
       "</tr>\n",
       "</table><br/><br/>Notes:<br/>[1] Standard Errors assume that the covariance matrix of the errors is correctly specified."
      ],
      "text/plain": [
       "<class 'statsmodels.iolib.summary.Summary'>\n",
       "\"\"\"\n",
       "                            OLS Regression Results                            \n",
       "==============================================================================\n",
       "Dep. Variable:                    SBP   R-squared:                       0.125\n",
       "Model:                            OLS   Adj. R-squared:                  0.123\n",
       "Method:                 Least Squares   F-statistic:                     66.37\n",
       "Date:                Tue, 20 Dec 2022   Prob (F-statistic):           4.13e-40\n",
       "Time:                        19:53:48   Log-Likelihood:                -6530.4\n",
       "No. Observations:                1394   AIC:                         1.307e+04\n",
       "Df Residuals:                    1390   BIC:                         1.309e+04\n",
       "Df Model:                           3                                         \n",
       "Covariance Type:            nonrobust                                         \n",
       "===============================================================================\n",
       "                  coef    std err          t      P>|t|      [0.025      0.975]\n",
       "-------------------------------------------------------------------------------\n",
       "Intercept     150.0199      0.985    152.336      0.000     148.088     151.952\n",
       "SEX[T.male]    -4.0659      1.451     -2.803      0.005      -6.912      -1.220\n",
       "sFRW           17.7205      1.426     12.431      0.000      14.924      20.517\n",
       "sCHOL           4.9169      1.431      3.436      0.001       2.110       7.724\n",
       "==============================================================================\n",
       "Omnibus:                      327.612   Durbin-Watson:                   1.774\n",
       "Prob(Omnibus):                  0.000   Jarque-Bera (JB):              843.676\n",
       "Skew:                           1.237   Prob(JB):                    6.28e-184\n",
       "Kurtosis:                       5.899   Cond. No.                         2.79\n",
       "==============================================================================\n",
       "\n",
       "Notes:\n",
       "[1] Standard Errors assume that the covariance matrix of the errors is correctly specified.\n",
       "\"\"\""
      ]
     },
     "execution_count": 152,
     "metadata": {},
     "output_type": "execute_result"
    }
   ],
   "source": [
    "# exercise 4\n",
    "\n",
    "fit = smf.ols('SBP ~ sFRW + SEX + sCHOL', data=fram).fit()\n",
    "fit.summary()\n"
   ]
  },
  {
   "cell_type": "markdown",
   "metadata": {},
   "source": [
    "Add the variable AGE to the model and inspect the estimates of the coefficients using the `summary` method of the fitted model. Again use the name `fit` for the fitted model. (From now on assume that we always use the name `fit` for the variable of the fitted model.)"
   ]
  },
  {
   "cell_type": "code",
   "execution_count": 153,
   "metadata": {},
   "outputs": [
    {
     "data": {
      "text/html": [
       "<table class=\"simpletable\">\n",
       "<caption>OLS Regression Results</caption>\n",
       "<tr>\n",
       "  <th>Dep. Variable:</th>           <td>SBP</td>       <th>  R-squared:         </th> <td>   0.146</td> \n",
       "</tr>\n",
       "<tr>\n",
       "  <th>Model:</th>                   <td>OLS</td>       <th>  Adj. R-squared:    </th> <td>   0.144</td> \n",
       "</tr>\n",
       "<tr>\n",
       "  <th>Method:</th>             <td>Least Squares</td>  <th>  F-statistic:       </th> <td>   59.39</td> \n",
       "</tr>\n",
       "<tr>\n",
       "  <th>Date:</th>             <td>Tue, 20 Dec 2022</td> <th>  Prob (F-statistic):</th> <td>2.44e-46</td> \n",
       "</tr>\n",
       "<tr>\n",
       "  <th>Time:</th>                 <td>19:53:48</td>     <th>  Log-Likelihood:    </th> <td> -6513.6</td> \n",
       "</tr>\n",
       "<tr>\n",
       "  <th>No. Observations:</th>      <td>  1394</td>      <th>  AIC:               </th> <td>1.304e+04</td>\n",
       "</tr>\n",
       "<tr>\n",
       "  <th>Df Residuals:</th>          <td>  1389</td>      <th>  BIC:               </th> <td>1.306e+04</td>\n",
       "</tr>\n",
       "<tr>\n",
       "  <th>Df Model:</th>              <td>     4</td>      <th>                     </th>     <td> </td>    \n",
       "</tr>\n",
       "<tr>\n",
       "  <th>Covariance Type:</th>      <td>nonrobust</td>    <th>                     </th>     <td> </td>    \n",
       "</tr>\n",
       "</table>\n",
       "<table class=\"simpletable\">\n",
       "<tr>\n",
       "       <td></td>          <th>coef</th>     <th>std err</th>      <th>t</th>      <th>P>|t|</th>  <th>[0.025</th>    <th>0.975]</th>  \n",
       "</tr>\n",
       "<tr>\n",
       "  <th>Intercept</th>   <td>  150.1695</td> <td>    0.974</td> <td>  154.221</td> <td> 0.000</td> <td>  148.259</td> <td>  152.080</td>\n",
       "</tr>\n",
       "<tr>\n",
       "  <th>SEX[T.male]</th> <td>   -4.3805</td> <td>    1.435</td> <td>   -3.053</td> <td> 0.002</td> <td>   -7.195</td> <td>   -1.566</td>\n",
       "</tr>\n",
       "<tr>\n",
       "  <th>sFRW</th>        <td>   16.9771</td> <td>    1.415</td> <td>   11.999</td> <td> 0.000</td> <td>   14.202</td> <td>   19.753</td>\n",
       "</tr>\n",
       "<tr>\n",
       "  <th>sAGE</th>        <td>    8.1332</td> <td>    1.400</td> <td>    5.810</td> <td> 0.000</td> <td>    5.387</td> <td>   10.879</td>\n",
       "</tr>\n",
       "<tr>\n",
       "  <th>sCHOL</th>       <td>    4.2696</td> <td>    1.419</td> <td>    3.009</td> <td> 0.003</td> <td>    1.486</td> <td>    7.053</td>\n",
       "</tr>\n",
       "</table>\n",
       "<table class=\"simpletable\">\n",
       "<tr>\n",
       "  <th>Omnibus:</th>       <td>321.087</td> <th>  Durbin-Watson:     </th> <td>   1.807</td> \n",
       "</tr>\n",
       "<tr>\n",
       "  <th>Prob(Omnibus):</th> <td> 0.000</td>  <th>  Jarque-Bera (JB):  </th> <td> 840.955</td> \n",
       "</tr>\n",
       "<tr>\n",
       "  <th>Skew:</th>          <td> 1.206</td>  <th>  Prob(JB):          </th> <td>2.45e-183</td>\n",
       "</tr>\n",
       "<tr>\n",
       "  <th>Kurtosis:</th>      <td> 5.944</td>  <th>  Cond. No.          </th> <td>    2.82</td> \n",
       "</tr>\n",
       "</table><br/><br/>Notes:<br/>[1] Standard Errors assume that the covariance matrix of the errors is correctly specified."
      ],
      "text/plain": [
       "<class 'statsmodels.iolib.summary.Summary'>\n",
       "\"\"\"\n",
       "                            OLS Regression Results                            \n",
       "==============================================================================\n",
       "Dep. Variable:                    SBP   R-squared:                       0.146\n",
       "Model:                            OLS   Adj. R-squared:                  0.144\n",
       "Method:                 Least Squares   F-statistic:                     59.39\n",
       "Date:                Tue, 20 Dec 2022   Prob (F-statistic):           2.44e-46\n",
       "Time:                        19:53:48   Log-Likelihood:                -6513.6\n",
       "No. Observations:                1394   AIC:                         1.304e+04\n",
       "Df Residuals:                    1389   BIC:                         1.306e+04\n",
       "Df Model:                           4                                         \n",
       "Covariance Type:            nonrobust                                         \n",
       "===============================================================================\n",
       "                  coef    std err          t      P>|t|      [0.025      0.975]\n",
       "-------------------------------------------------------------------------------\n",
       "Intercept     150.1695      0.974    154.221      0.000     148.259     152.080\n",
       "SEX[T.male]    -4.3805      1.435     -3.053      0.002      -7.195      -1.566\n",
       "sFRW           16.9771      1.415     11.999      0.000      14.202      19.753\n",
       "sAGE            8.1332      1.400      5.810      0.000       5.387      10.879\n",
       "sCHOL           4.2696      1.419      3.009      0.003       1.486       7.053\n",
       "==============================================================================\n",
       "Omnibus:                      321.087   Durbin-Watson:                   1.807\n",
       "Prob(Omnibus):                  0.000   Jarque-Bera (JB):              840.955\n",
       "Skew:                           1.206   Prob(JB):                    2.45e-183\n",
       "Kurtosis:                       5.944   Cond. No.                         2.82\n",
       "==============================================================================\n",
       "\n",
       "Notes:\n",
       "[1] Standard Errors assume that the covariance matrix of the errors is correctly specified.\n",
       "\"\"\""
      ]
     },
     "execution_count": 153,
     "metadata": {},
     "output_type": "execute_result"
    }
   ],
   "source": [
    "# exercise 5\n",
    "\n",
    "fit = smf.ols('SBP ~ sFRW + sAGE + SEX + sCHOL', data=fram).fit()\n",
    "fit.summary()"
   ]
  },
  {
   "attachments": {},
   "cell_type": "markdown",
   "metadata": {},
   "source": [
    "How much does the inclusion of age increase the explanatory power of the model? Which variables explain the variance of the target variable most?\n",
    "\n",
    "***\n",
    "As we can see form the summary of the fits, adding the variable AGE to the model increases the r-squared value from 0.125 to 0.146 which gives and an increases to the explanatory power of the model, just not a very big one.\n",
    "\n",
    "We can see from the coefficiencts of the independant variables in the summery that sFRW or 'weight' has the larrges coefficient and thus has the largest impact on the target variable.\n",
    "***"
   ]
  },
  {
   "cell_type": "markdown",
   "metadata": {},
   "source": [
    "Try to add to the model all the interactions with other variables. "
   ]
  },
  {
   "cell_type": "code",
   "execution_count": 154,
   "metadata": {},
   "outputs": [],
   "source": [
    "# exercise 6\n",
    "\n",
    "fit = smf.ols('SBP ~ sFRW + sAGE + SEX + sCHOL + sFRW:sAGE + sFRW:SEX + sFRW:sCHOL + sAGE:SEX + sAGE:sCHOL + SEX:sCHOL', data=fram).fit()\n"
   ]
  },
  {
   "cell_type": "markdown",
   "metadata": {},
   "source": [
    "Then visualize the model as the function of weight for the youngest (sAGE=-1.0), middle aged (sAGE=0.0), and oldest (sAGE=1.0) women while assuming the background variables to be centered. Remember to consider the changes in the intercept and in the regression coefficient caused by age. Visualize both the data points and the fitted lines."
   ]
  },
  {
   "cell_type": "code",
   "execution_count": 155,
   "metadata": {},
   "outputs": [
    {
     "name": "stderr",
     "output_type": "stream",
     "text": [
      "c:\\Users\\henry\\AppData\\Local\\Programs\\Python\\Python39\\lib\\site-packages\\pandas\\plotting\\_matplotlib\\core.py:1114: UserWarning: No data for colormapping provided via 'c'. Parameters 'cmap' will be ignored\n",
      "  scatter = ax.scatter(\n"
     ]
    },
    {
     "data": {
      "image/png": "[encoded data removed]",
      "text/plain": [
       "<Figure size 640x480 with 1 Axes>"
      ]
     },
     "metadata": {},
     "output_type": "display_data"
    }
   ],
   "source": [
    "# exercise 7\n",
    "p=fit.params\n",
    "fram[fram.SEX==\"female\"].plot.scatter(\"sFRW\", \"SBP\")\n",
    "\n",
    "abline_plot(intercept=p.Intercept - p[\"sAGE\"], slope=p.sFRW - p[\"sFRW:sAGE\"], ax=plt.gca(), color=\"blue\", label=\"youngest\")\n",
    "\n",
    "abline_plot(intercept=p.Intercept, slope=p.sFRW, ax=plt.gca(), color=\"magenta\", label=\"middle aged\")\n",
    "\n",
    "abline_plot(intercept=p.Intercept + p[\"sAGE\"], slope=p.sFRW + p[\"sFRW:sAGE\"], ax=plt.gca(), color=\"grey\", label=\"oldest\")\n",
    "\n",
    "plt.legend();\n"
   ]
  },
  {
   "attachments": {},
   "cell_type": "markdown",
   "metadata": {},
   "source": [
    "How does the dependence of blood pressure on weight change as a person gets older?\n",
    "***\n",
    "As we can see from the graph the slope of the 'oldest' regression is smaller then the slope of the middle aged regression. Furthermore the slope of the 'middle aged' regression is smaller then the slope of the youngest regression. This means that as a person gets older, the dependence of blood pressure on weight gets smaller. \n",
    "***"
   ]
  },
  {
   "cell_type": "markdown",
   "metadata": {},
   "source": [
    "### Even more accurate model\n",
    "\n",
    "Include the background variable `sCIG` from the data and its interactions. Visualize the model for systolic blood pressure as the function of the most important explanatory variable. Visualize separate lines for the small (-1.0), average (0.0), and large (1.0) values of `sCHOL`. Other variables can be assumed to be at their mean value."
   ]
  },
  {
   "cell_type": "code",
   "execution_count": 156,
   "metadata": {},
   "outputs": [
    {
     "name": "stderr",
     "output_type": "stream",
     "text": [
      "c:\\Users\\henry\\AppData\\Local\\Programs\\Python\\Python39\\lib\\site-packages\\pandas\\plotting\\_matplotlib\\core.py:1114: UserWarning: No data for colormapping provided via 'c'. Parameters 'cmap' will be ignored\n",
      "  scatter = ax.scatter(\n"
     ]
    },
    {
     "data": {
      "image/png": "[encoded data removed]",
      "text/plain": [
       "<Figure size 640x480 with 1 Axes>"
      ]
     },
     "metadata": {},
     "output_type": "display_data"
    }
   ],
   "source": [
    "# exercise 8\n",
    "fit = smf.ols('SBP ~ sFRW + sAGE + SEX + sCHOL + sCIG + sFRW:sCIG + sFRW:sAGE + sFRW:SEX + sFRW:sCHOL + sAGE:SEX + sAGE:sCHOL + sAGE:sCIG + SEX:sCHOL + SEX:sCIG + sCHOL:sCIG', data=fram).fit()\n",
    "\n",
    "\n",
    "p=fit.params\n",
    "fram[fram.SEX==\"female\"].plot.scatter(\"sFRW\", \"SBP\")\n",
    "\n",
    "abline_plot(intercept=p.Intercept - p[\"sCHOL\"], slope=p.sFRW - p[\"sFRW:sCHOL\"], ax=plt.gca(), color=\"blue\", label=\"small\")\n",
    "\n",
    "abline_plot(intercept=p.Intercept, slope=p.sFRW, ax=plt.gca(), color=\"magenta\", label=\"average\")\n",
    "\n",
    "abline_plot(intercept=p.Intercept + p[\"sCHOL\"], slope=p.sFRW + p[\"sFRW:sCHOL\"], ax=plt.gca(), color=\"grey\", label=\"large\")\n",
    "\n",
    "plt.legend();\n"
   ]
  },
  {
   "cell_type": "code",
   "execution_count": 157,
   "metadata": {},
   "outputs": [
    {
     "name": "stdout",
     "output_type": "stream",
     "text": [
      "                            OLS Regression Results                            \n",
      "==============================================================================\n",
      "Dep. Variable:                    SBP   R-squared:                       0.152\n",
      "Model:                            OLS   Adj. R-squared:                  0.143\n",
      "Method:                 Least Squares   F-statistic:                     16.50\n",
      "Date:                Tue, 20 Dec 2022   Prob (F-statistic):           2.99e-40\n",
      "Time:                        19:53:49   Log-Likelihood:                -6508.6\n",
      "No. Observations:                1394   AIC:                         1.305e+04\n",
      "Df Residuals:                    1378   BIC:                         1.313e+04\n",
      "Df Model:                          15                                         \n",
      "Covariance Type:            nonrobust                                         \n",
      "=====================================================================================\n",
      "                        coef    std err          t      P>|t|      [0.025      0.975]\n",
      "-------------------------------------------------------------------------------------\n",
      "Intercept           151.3182      1.160    130.456      0.000     149.043     153.594\n",
      "SEX[T.male]          -5.3834      1.598     -3.368      0.001      -8.519      -2.248\n",
      "sFRW                 17.6415      1.866      9.455      0.000      13.981      21.302\n",
      "sFRW:SEX[T.male]     -0.1140      3.441     -0.033      0.974      -6.865       6.637\n",
      "sAGE                 10.3615      2.119      4.890      0.000       6.205      14.518\n",
      "sAGE:SEX[T.male]     -4.4248      3.179     -1.392      0.164     -10.661       1.811\n",
      "sCHOL                 3.2957      1.965      1.677      0.094      -0.559       7.151\n",
      "SEX[T.male]:sCHOL     1.4369      3.142      0.457      0.648      -4.727       7.600\n",
      "sCIG                  3.7733      3.106      1.215      0.225      -2.319       9.865\n",
      "SEX[T.male]:sCIG     -3.9094      3.599     -1.086      0.278     -10.970       3.151\n",
      "sFRW:sCIG             3.6765      3.373      1.090      0.276      -2.941      10.294\n",
      "sFRW:sAGE            -1.8501      2.848     -0.650      0.516      -7.437       3.737\n",
      "sFRW:sCHOL            4.8912      2.735      1.788      0.074      -0.475      10.257\n",
      "sAGE:sCHOL           -4.8509      3.091     -1.569      0.117     -10.914       1.212\n",
      "sAGE:sCIG            -0.3247      3.143     -0.103      0.918      -6.490       5.840\n",
      "sCHOL:sCIG           -1.6344      3.368     -0.485      0.628      -8.242       4.973\n",
      "==============================================================================\n",
      "Omnibus:                      303.518   Durbin-Watson:                   1.802\n",
      "Prob(Omnibus):                  0.000   Jarque-Bera (JB):              750.095\n",
      "Skew:                           1.164   Prob(JB):                    1.32e-163\n",
      "Kurtosis:                       5.738   Cond. No.                         7.93\n",
      "==============================================================================\n",
      "\n",
      "Notes:\n",
      "[1] Standard Errors assume that the covariance matrix of the errors is correctly specified.\n"
     ]
    }
   ],
   "source": [
    "print(fit.summary())"
   ]
  },
  {
   "attachments": {},
   "cell_type": "markdown",
   "metadata": {},
   "source": [
    "How does the model and its accuracy look?\n",
    "\n",
    "***\n",
    "\n",
    "From the model we can see two main things:\n",
    "1. Firstly there is a positive coorelation between a persons weight and a persons blood pressure. \n",
    "2. Secondly, we can see from the regression lines that as a person has heigher cholestoral, the dependency of blood pressure on weight increases. \n",
    "\n",
    "from the summery of the fit, we can see The rsquare value is 0.152. This means that the model is still not very percice. Thus using this regression line would result in not a very accurate prediction. \n",
    "***"
   ]
  },
  {
   "cell_type": "markdown",
   "metadata": {},
   "source": [
    "# Logistic regression"
   ]
  },
  {
   "cell_type": "code",
   "execution_count": 158,
   "metadata": {},
   "outputs": [],
   "source": [
    "def logistic(x):\n",
    "    return 1.0 / (1.0 + np.exp(-x))"
   ]
  },
  {
   "cell_type": "markdown",
   "metadata": {},
   "source": [
    "We will continue predicting high blood pressure by taking in some continuous background variables, such as the age."
   ]
  },
  {
   "cell_type": "markdown",
   "metadata": {},
   "source": [
    "Recreate the model `HIGH_BP ~ sFRW + SEX + SEX:sFRW` presented in the introduction. Make sure, that you get the same results. Use name `fit` for the fitted model. Compute and store the error rate into variable `error_rate_orig`."
   ]
  },
  {
   "cell_type": "code",
   "execution_count": 159,
   "metadata": {},
   "outputs": [],
   "source": [
    "# exercise 9\n",
    "fram[\"HIGH_BP\"] = (fram.SBP >= 140) | (fram.DBP >= 90)\n",
    "fram.HIGH_BP = fram.HIGH_BP.map(int)\n",
    "\n",
    "fit = smf.glm(formula=\"HIGH_BP ~ sFRW + SEX + SEX:sFRW\", data=fram, \n",
    "    family=sm.families.Binomial(statsmodels.genmod.families.links.logit())).fit()\n",
    "\n",
    "error_rate_orig = np.mean(((fit.fittedvalues < 0.5) & fram.HIGH_BP) | \n",
    "                          ((fit.fittedvalues > 0.5) & ~fram.HIGH_BP))\n",
    "\n",
    "\n"
   ]
  },
  {
   "cell_type": "markdown",
   "metadata": {},
   "source": [
    "Add the `sAGE` variable and its interactions. Check the prediction accuracy of the model and compare it to the previous model. Store the prediction accuracy to variable `error_rate`."
   ]
  },
  {
   "cell_type": "code",
   "execution_count": 160,
   "metadata": {},
   "outputs": [],
   "source": [
    "# exercise 10\n",
    "\n",
    "fram[\"HIGH_BP\"] = (fram.SBP >= 140) | (fram.DBP >= 90)\n",
    "fram.HIGH_BP = fram.HIGH_BP.map(int)\n",
    "\n",
    "fit = smf.glm(formula=\"HIGH_BP ~ sFRW + SEX + sAGE + SEX:sFRW + sAGE:sFRW + sAGE:SEX\", data=fram, \n",
    "              family=sm.families.Binomial(statsmodels.genmod.families.links.logit())).fit()\n",
    "\n",
    "error_rate = np.mean(((fit.fittedvalues < 0.5) & fram.HIGH_BP) | \n",
    "                     ((fit.fittedvalues > 0.5) & ~fram.HIGH_BP))"
   ]
  },
  {
   "cell_type": "markdown",
   "metadata": {},
   "source": [
    "Visualize the predicted probability of high blood pressure as the function of weight. Remember to use normalized values (`rescale`) also for those variables that are not included in the visualization, so that sensible values are used for them (data average). Draw two figures with altogether six curves: young, middle aged, and old women; and young, middle aged, and old men. Use `plt.subplots`. (Plotting works in similar fashion as in the introduction. The argument factors need, however, be changed as in the example about visualisation of continuous variable.) "
   ]
  },
  {
   "cell_type": "code",
   "execution_count": 161,
   "metadata": {},
   "outputs": [
    {
     "data": {
      "text/plain": [
       "<matplotlib.legend.Legend at 0x21e24c8cc70>"
      ]
     },
     "execution_count": 161,
     "metadata": {},
     "output_type": "execute_result"
    },
    {
     "data": {
      "image/png": "[encoded data removed]",
      "text/plain": [
       "<Figure size 1400x400 with 2 Axes>"
      ]
     },
     "metadata": {},
     "output_type": "display_data"
    }
   ],
   "source": [
    "# exercise 11\n",
    "\n",
    "def logistic(x):\n",
    "    return 1.0 / (1.0 + np.exp(-x))\n",
    "\n",
    "fig, ax = plt.subplots(1, 2, subplot_kw={\"xlim\": (-1.6, 3.3), \"xlabel\": \"sFRW\", \"ylabel\": \"HIGH_BP\"}, figsize=(14, 4))\n",
    "\n",
    "X=np.linspace(-2, 4, 100)\n",
    "p=fit.params\n",
    "\n",
    "ax[0].scatter(fram[(fram.SEX==\"female\")].sFRW, fram[(fram.SEX==\"female\")].HIGH_BP)\n",
    "ax[0].set_title(\"female\")\n",
    "\n",
    "ax[0].plot(X, logistic(X*(p.sFRW - p['sAGE:sFRW']) + p.Intercept - p.sAGE), color=\"blue\", label=\"youngest\")\n",
    "ax[0].plot(X, logistic(X*(p.sFRW)+ p.Intercept), color=\"magenta\", label=\"middle aged\")\n",
    "ax[0].plot(X, logistic(X*(p.sFRW + p['sAGE:sFRW']) + p.Intercept + p.sAGE), color=\"grey\", label=\"oldest\")\n",
    "\n",
    "\n",
    "\n",
    "ax[1].scatter(fram[(fram.SEX==\"male\")].sFRW, fram[(fram.SEX==\"male\")].HIGH_BP)\n",
    "ax[1].set_title(\"male\")\n",
    "\n",
    "ax[1].plot(X, logistic(X*(p.sFRW - (p[\"SEX[T.male]:sFRW\"] + p[\"sAGE:sFRW\"])) - p[\"SEX[T.male]\"] + p.Intercept - p.sAGE), color=\"blue\", label=\"youngest\")\n",
    "ax[1].plot(X, logistic(X*(p.sFRW)+ p.Intercept), color=\"magenta\", label=\"middle aged\")\n",
    "ax[1].plot(X, logistic(X*(p.sFRW + (p[\"SEX[T.male]:sFRW\"] + p[\"sAGE:sFRW\"])) + p[\"SEX[T.male]\"] + p.Intercept + p.sAGE), color=\"grey\", label=\"oldest\")\n",
    "\n",
    "\n",
    "ax[0].legend()\n",
    "ax[1].legend()"
   ]
  },
  {
   "attachments": {},
   "cell_type": "markdown",
   "metadata": {},
   "source": [
    "How do the models with different ages and genders differ from each other?\n",
    "\n",
    "***\n",
    "There are a few main observations about the differences of the above models: \n",
    "1. Firstly, old women are more likly to have a high blood pressure irrespective to their weight. On the other hand, high weight old men are about 20% more likly to have a high blood pressure then low weight old men\n",
    "2. young, light weight women are less likly to have heigh blood pressure then young, leightweight men. \n",
    "3. young and middle aged heavy women are more likly to be have high blood pressure then all ages of men. On the other hand, older aged heavy women are less likly to be have high blood pressure then all ages of men\n",
    "\n",
    "***"
   ]
  },
  {
   "cell_type": "markdown",
   "metadata": {},
   "source": [
    "Create here a helper function `train_test_split` that gets a DataFrame as parameter and return a pair of DataFrames: one for training and the second for testing. \n",
    "The function should get parameters in the following way:\n",
    "```python\n",
    "train_test_split(df, train_fraction=0.8)\n",
    "```\n",
    "The data should be split randomly to training and testing DataFrames so that `train_fraction` fraction of data should go into the training set. Use the `sample` method of the DataFrame."
   ]
  },
  {
   "cell_type": "code",
   "execution_count": 162,
   "metadata": {},
   "outputs": [],
   "source": [
    "# exercise 12\n",
    "def train_test_split(df, train_fraction=0.8):\n",
    "    train = df.sample(frac=train_fraction)\n",
    "    test = df.loc[~df.index.isin(train.index)]\n",
    "    return train, test"
   ]
  },
  {
   "cell_type": "markdown",
   "metadata": {},
   "source": [
    "Check the prediction accuracy of your model using cross validation. Use 100-fold cross validation and training_fraction 0.8."
   ]
  },
  {
   "cell_type": "code",
   "execution_count": 163,
   "metadata": {},
   "outputs": [
    {
     "data": {
      "text/plain": [
       "(0.3311827956989247, 0.3488530465949821)"
      ]
     },
     "execution_count": 163,
     "metadata": {},
     "output_type": "execute_result"
    }
   ],
   "source": [
    "# exercise 13\n",
    "np.random.seed(1)\n",
    "\n",
    "error_model=[]\n",
    "error_null=[]\n",
    "\n",
    "for i in range(100):\n",
    "    train, test = train_test_split(fram)\n",
    "\n",
    "    fit = smf.glm(formula=\"HIGH_BP ~ sFRW + SEX + sAGE + SEX:sFRW + sAGE:sFRW + sAGE:SEX\", \n",
    "        data=train, family=sm.families.Binomial(statsmodels.genmod.families.links.logit())).fit()\n",
    "\n",
    "    pred = fit.predict(test, transform=True)\n",
    "\n",
    "    error_rate = np.mean(((pred < 0.5) & (test.HIGH_BP==1)) |\n",
    "                         ((pred > 0.5) & (test.HIGH_BP==0)))\n",
    "    error_model.append(error_rate)\n",
    "    error_null.append((1 - test.HIGH_BP).mean())\n",
    "\n",
    "\n",
    "pd.Series(error_model).mean(), pd.Series(error_null).mean()\n",
    "\n"
   ]
  },
  {
   "cell_type": "markdown",
   "metadata": {},
   "source": [
    "## Predicting coronary heart disease\n",
    "\n",
    "Let us use again the same data to learn a model for the occurrence of coronary heart disease. We will use logistic regression to predict whether a patient *sometimes* shows symptoms of coronary heart disease. For this, add to the data a binary variable `hasCHD`, that describes the event (`CHD > 0`). The binary variable `hadCHD` can get only two values: 0 or 1. As a sanity check, compute the mean of this variable, which tells the number of positive cases."
   ]
  },
  {
   "cell_type": "code",
   "execution_count": 164,
   "metadata": {},
   "outputs": [
    {
     "data": {
      "text/plain": [
       "0.22022955523672882"
      ]
     },
     "execution_count": 164,
     "metadata": {},
     "output_type": "execute_result"
    }
   ],
   "source": [
    "# exercise 14\n",
    "fram['hasCHD'] = (fram['CHD'] > 0).map(int)\n",
    "\n",
    "fram['hasCHD'].mean()"
   ]
  },
  {
   "cell_type": "markdown",
   "metadata": {},
   "source": [
    "Next, form a logistic regression model for variable `hasCHD` by using variables sCHOL, sCIG, and sFRW, and their interactions as explanatory variables. Store the fitted model to variable `fit`. Compute the prediction accuracy of the model, store it to variable `error_rate`."
   ]
  },
  {
   "cell_type": "code",
   "execution_count": 165,
   "metadata": {},
   "outputs": [
    {
     "data": {
      "text/plain": [
       "0.22022955523672882"
      ]
     },
     "execution_count": 165,
     "metadata": {},
     "output_type": "execute_result"
    }
   ],
   "source": [
    "# exercise 15\n",
    "\n",
    "np.random.seed(1)\n",
    "\n",
    "fit = smf.glm(formula=\"hasCHD ~ sCHOL + sCIG + sFRW + sCHOL:sCIG + sCHOL:sFRW + sCIG:sFRW\", \n",
    "            data=fram, family=sm.families.Binomial(statsmodels.genmod.families.links.logit())).fit()\n",
    "\n",
    "pred = fit.predict(fram, transform=True)\n",
    "\n",
    "error_rate = np.mean(((pred < 0.5) & (fram.hasCHD==True)) |\n",
    "                     ((pred > 0.5) & (fram.hasCHD==False)))\n",
    "\n",
    "error_rate\n"
   ]
  },
  {
   "cell_type": "code",
   "execution_count": 166,
   "metadata": {},
   "outputs": [
    {
     "data": {
      "text/html": [
       "<table class=\"simpletable\">\n",
       "<caption>Generalized Linear Model Regression Results</caption>\n",
       "<tr>\n",
       "  <th>Dep. Variable:</th>        <td>hasCHD</td>      <th>  No. Observations:  </th>  <td>  1394</td> \n",
       "</tr>\n",
       "<tr>\n",
       "  <th>Model:</th>                  <td>GLM</td>       <th>  Df Residuals:      </th>  <td>  1387</td> \n",
       "</tr>\n",
       "<tr>\n",
       "  <th>Model Family:</th>        <td>Binomial</td>     <th>  Df Model:          </th>  <td>     6</td> \n",
       "</tr>\n",
       "<tr>\n",
       "  <th>Link Function:</th>         <td>logit</td>      <th>  Scale:             </th> <td>  1.0000</td>\n",
       "</tr>\n",
       "<tr>\n",
       "  <th>Method:</th>                <td>IRLS</td>       <th>  Log-Likelihood:    </th> <td> -721.19</td>\n",
       "</tr>\n",
       "<tr>\n",
       "  <th>Date:</th>            <td>Tue, 20 Dec 2022</td> <th>  Deviance:          </th> <td>  1442.4</td>\n",
       "</tr>\n",
       "<tr>\n",
       "  <th>Time:</th>                <td>19:53:51</td>     <th>  Pearson chi2:      </th> <td>1.39e+03</td>\n",
       "</tr>\n",
       "<tr>\n",
       "  <th>No. Iterations:</th>          <td>4</td>        <th>  Pseudo R-squ. (CS):</th>  <td>0.01950</td>\n",
       "</tr>\n",
       "<tr>\n",
       "  <th>Covariance Type:</th>     <td>nonrobust</td>    <th>                     </th>     <td> </td>   \n",
       "</tr>\n",
       "</table>\n",
       "<table class=\"simpletable\">\n",
       "<tr>\n",
       "       <td></td>         <th>coef</th>     <th>std err</th>      <th>z</th>      <th>P>|z|</th>  <th>[0.025</th>    <th>0.975]</th>  \n",
       "</tr>\n",
       "<tr>\n",
       "  <th>Intercept</th>  <td>   -1.2888</td> <td>    0.067</td> <td>  -19.101</td> <td> 0.000</td> <td>   -1.421</td> <td>   -1.157</td>\n",
       "</tr>\n",
       "<tr>\n",
       "  <th>sCHOL</th>      <td>    0.3324</td> <td>    0.130</td> <td>    2.554</td> <td> 0.011</td> <td>    0.077</td> <td>    0.587</td>\n",
       "</tr>\n",
       "<tr>\n",
       "  <th>sCIG</th>       <td>    0.4613</td> <td>    0.126</td> <td>    3.666</td> <td> 0.000</td> <td>    0.215</td> <td>    0.708</td>\n",
       "</tr>\n",
       "<tr>\n",
       "  <th>sFRW</th>       <td>    0.4404</td> <td>    0.130</td> <td>    3.386</td> <td> 0.001</td> <td>    0.185</td> <td>    0.695</td>\n",
       "</tr>\n",
       "<tr>\n",
       "  <th>sCHOL:sCIG</th> <td>   -0.1022</td> <td>    0.273</td> <td>   -0.374</td> <td> 0.708</td> <td>   -0.637</td> <td>    0.433</td>\n",
       "</tr>\n",
       "<tr>\n",
       "  <th>sCHOL:sFRW</th> <td>    0.1359</td> <td>    0.239</td> <td>    0.568</td> <td> 0.570</td> <td>   -0.333</td> <td>    0.604</td>\n",
       "</tr>\n",
       "<tr>\n",
       "  <th>sCIG:sFRW</th>  <td>    0.1646</td> <td>    0.258</td> <td>    0.637</td> <td> 0.524</td> <td>   -0.342</td> <td>    0.671</td>\n",
       "</tr>\n",
       "</table>"
      ],
      "text/plain": [
       "<class 'statsmodels.iolib.summary.Summary'>\n",
       "\"\"\"\n",
       "                 Generalized Linear Model Regression Results                  \n",
       "==============================================================================\n",
       "Dep. Variable:                 hasCHD   No. Observations:                 1394\n",
       "Model:                            GLM   Df Residuals:                     1387\n",
       "Model Family:                Binomial   Df Model:                            6\n",
       "Link Function:                  logit   Scale:                          1.0000\n",
       "Method:                          IRLS   Log-Likelihood:                -721.19\n",
       "Date:                Tue, 20 Dec 2022   Deviance:                       1442.4\n",
       "Time:                        19:53:51   Pearson chi2:                 1.39e+03\n",
       "No. Iterations:                     4   Pseudo R-squ. (CS):            0.01950\n",
       "Covariance Type:            nonrobust                                         \n",
       "==============================================================================\n",
       "                 coef    std err          z      P>|z|      [0.025      0.975]\n",
       "------------------------------------------------------------------------------\n",
       "Intercept     -1.2888      0.067    -19.101      0.000      -1.421      -1.157\n",
       "sCHOL          0.3324      0.130      2.554      0.011       0.077       0.587\n",
       "sCIG           0.4613      0.126      3.666      0.000       0.215       0.708\n",
       "sFRW           0.4404      0.130      3.386      0.001       0.185       0.695\n",
       "sCHOL:sCIG    -0.1022      0.273     -0.374      0.708      -0.637       0.433\n",
       "sCHOL:sFRW     0.1359      0.239      0.568      0.570      -0.333       0.604\n",
       "sCIG:sFRW      0.1646      0.258      0.637      0.524      -0.342       0.671\n",
       "==============================================================================\n",
       "\"\"\""
      ]
     },
     "execution_count": 166,
     "metadata": {},
     "output_type": "execute_result"
    }
   ],
   "source": [
    "fit.summary()"
   ]
  },
  {
   "cell_type": "markdown",
   "metadata": {},
   "source": [
    "Visualize the model by using the most important explanator on the x axis. Visualize both the points (with `plt.scatter`)\n",
    "and the logistic curve (with `plt.plot`)."
   ]
  },
  {
   "cell_type": "code",
   "execution_count": 169,
   "metadata": {},
   "outputs": [
    {
     "data": {
      "text/plain": [
       "[<matplotlib.lines.Line2D at 0x21e26d63190>]"
      ]
     },
     "execution_count": 169,
     "metadata": {},
     "output_type": "execute_result"
    },
    {
     "data": {
      "image/png": "[encoded data removed]",
      "text/plain": [
       "<Figure size 640x480 with 1 Axes>"
      ]
     },
     "metadata": {},
     "output_type": "display_data"
    }
   ],
   "source": [
    "# exercise 16\n",
    "def logistic(x):\n",
    "    return 1.0 / (1.0 + np.exp(-x))\n",
    "\n",
    "X = np.linspace(-6, 6, 100)\n",
    "\n",
    "# most important predictor is sCIG\n",
    "\n",
    "plt.xlabel(\"sCIG\")\n",
    "plt.ylabel(\"hasCHD\")\n",
    "plt.scatter(x = fram.sCIG, y = fram.hasCHD)\n",
    "plt.plot(X, logistic((X*fit.params.sCIG) + fit.params.Intercept))"
   ]
  },
  {
   "cell_type": "code",
   "execution_count": 138,
   "metadata": {},
   "outputs": [
    {
     "data": {
      "text/plain": [
       "0.7797704447632712"
      ]
     },
     "execution_count": 138,
     "metadata": {},
     "output_type": "execute_result"
    }
   ],
   "source": [
    "accuracy = 1 - error_rate\n",
    "accuracy"
   ]
  },
  {
   "attachments": {},
   "cell_type": "markdown",
   "metadata": {},
   "source": [
    "Is the prediction accuracy of the model good or bad? Can we expect to have practical use of the model?\n",
    "***\n",
    "The prediciton accuracy of the model is about 0.77977, which could be mistakenly considered good. However, this is a very poor model and we should not expect to have poractical use of the model. This is because, as we can see from the graph, the model is actually misclassifying every observation where hasCHD is equal to 1. This is confirmed by the fact that the error_rate is equal to the mean of fram['hasCHD']. \n",
    "\n",
    "In other words all observations are being predicted to not have CHD which makes this a bad model.\n",
    "***"
   ]
  },
  {
   "cell_type": "markdown",
   "metadata": {},
   "source": [
    "If a person has cholestherol 200, smokes 17 cigarets per day, and has weight 100, then what is the probability that he/she sometimes shows signs of coronal hear disease? Note that the model expects normalized values. Store the normalized values to dictionary called `point`. Store the probability in variable `predicted`."
   ]
  },
  {
   "cell_type": "code",
   "execution_count": 172,
   "metadata": {},
   "outputs": [
    {
     "data": {
      "text/plain": [
       "0.21616166025041"
      ]
     },
     "execution_count": 172,
     "metadata": {},
     "output_type": "execute_result"
    }
   ],
   "source": [
    "# exercise 17\n",
    "pchol = (200 - fram.CHOL.mean()) / (2 * fram.CHOL.std())\n",
    "pcig = (17 - fram.CIG.mean()) / (2 * fram.CIG.std())\n",
    "pfrw = (100 - fram.FRW.mean()) / (2 * fram.FRW.std())\n",
    "\n",
    "point = {\"sCHOL\": pchol, \"sCIG\": pcig, \"sFRW\": pfrw}\n",
    "\n",
    "pred = fit.predict(point, transform=True)\n",
    "predicted = pred.values[0]\n",
    "predicted"
   ]
  }
 ],
 "metadata": {
  "kernelspec": {
   "display_name": "Python 3",
   "language": "python",
   "name": "python3"
  },
  "language_info": {
   "codemirror_mode": {
    "name": "ipython",
    "version": 3
   },
   "file_extension": ".py",
   "mimetype": "text/x-python",
   "name": "python",
   "nbconvert_exporter": "python",
   "pygments_lexer": "ipython3",
   "version": "3.9.6"
  },
  "vscode": {
   "interpreter": {
    "hash": "4236b1bd8af5c88b200f8ae259f28c355fd90bec7f49eb3a4c44b52c2fc9f9b2"
   }
  }
 },
 "nbformat": 4,
 "nbformat_minor": 2
}
